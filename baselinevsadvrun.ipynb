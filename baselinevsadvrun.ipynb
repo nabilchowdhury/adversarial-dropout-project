{
  "nbformat": 4,
  "nbformat_minor": 0,
  "metadata": {
    "colab": {
      "name": "Untitled0.ipynb",
      "version": "0.3.2",
      "views": {},
      "default_view": {},
      "provenance": [],
      "collapsed_sections": []
    },
    "kernelspec": {
      "name": "python3",
      "display_name": "Python 3"
    },
    "accelerator": "GPU"
  },
  "cells": [
    {
      "metadata": {
        "id": "4GvLiCvCH37c",
        "colab_type": "code",
        "colab": {
          "autoexec": {
            "startup": false,
            "wait_interval": 0
          },
          "base_uri": "https://localhost:8080/",
          "height": 34
        },
        "outputId": "5473c9d8-58b8-4057-9977-f976718d22d2",
        "executionInfo": {
          "status": "ok",
          "timestamp": 1523813151190,
          "user_tz": 240,
          "elapsed": 1025,
          "user": {
            "displayName": "Tiffany Wang",
            "photoUrl": "//lh3.googleusercontent.com/-DxivnaZLcsI/AAAAAAAAAAI/AAAAAAAAH_I/QDov37LUsKk/s50-c-k-no/photo.jpg",
            "userId": "108532619344838745606"
          }
        }
      },
      "cell_type": "code",
      "source": [
        "import tensorflow as tf\n",
        "import numpy as np\n",
        "import re\n",
        "from keras.datasets import cifar10\n",
        "from keras.utils import to_categorical\n",
        "from keras.datasets import mnist\n",
        "from matplotlib import pyplot as plt\n",
        "from google.colab import files"
      ],
      "execution_count": 1,
      "outputs": [
        {
          "output_type": "stream",
          "text": [
            "Using TensorFlow backend.\n"
          ],
          "name": "stderr"
        }
      ]
    },
    {
      "metadata": {
        "id": "ccDoliY5II8h",
        "colab_type": "code",
        "colab": {
          "autoexec": {
            "startup": false,
            "wait_interval": 0
          }
        },
        "cellView": "code"
      },
      "cell_type": "code",
      "source": [
        "#@title Layers\n",
        "SEED = 123456\n",
        "rng = np.random.RandomState(SEED)\n",
        "\n",
        "\n",
        "def __createWeights(shape, seed=None, name='weight'):\n",
        "    w_init = tf.contrib.layers.variance_scaling_initializer(seed=seed)\n",
        "    return tf.get_variable(name + '_w', shape=shape, initializer=w_init)\n",
        "\n",
        "\n",
        "def __createBiases(size, name='bias'):\n",
        "    return tf.get_variable(name + '_b', shape=[size], initializer=tf.constant_initializer(0.0))\n",
        "\n",
        "\n",
        "def LeakyReLU(x, alpha=0.1):\n",
        "    x = tf.nn.leaky_relu(x, alpha=alpha)\n",
        "    return x\n",
        "\n",
        "\n",
        "def MaxPooling(x, ksize=2, stride_length=2, padding='SAME', data_format='NHWC'):\n",
        "    x = tf.nn.max_pool(x, (1, ksize, ksize, 1), (1, stride_length, stride_length, 1), padding, data_format)\n",
        "    return x\n",
        "\n",
        "\n",
        "def GlobalAveragePooling(x):\n",
        "    x = tf.reduce_mean(x, [1, 2])\n",
        "    return x\n",
        "\n",
        "\n",
        "def Dense(x, input_dim, output_dim, seed=None, name='dense'):\n",
        "    W = __createWeights([input_dim, output_dim], seed, name) \n",
        "    b = __createBiases(output_dim, name) \n",
        "    x = tf.nn.xw_plus_b(x, W, b)\n",
        "    return x\n",
        "\n",
        "\n",
        "def Conv2D(x, filter_size, n_channels, n_filters, stride_length=1, padding='SAME', data_format='NHWC', name='conv'):\n",
        "    shape = [filter_size, filter_size, n_channels, n_filters]\n",
        "    W = __createWeights(shape, name=name)\n",
        "    b = __createBiases(n_filters, name=name)\n",
        "    x = tf.nn.conv2d(x, filter=W, strides=(1, stride_length, stride_length, 1), padding=padding, data_format=data_format)\n",
        "    x += b\n",
        "    return x\n",
        "\n",
        "\n",
        "def Dropout(x, probability=0.5):\n",
        "    x = tf.nn.dropout(x, keep_prob=probability, seed=rng.randint(SEED))\n",
        "    return x\n",
        "\n",
        "\n",
        "def GaussianNoise(x, sigma=0.15):\n",
        "    noise = tf.random_normal(shape=tf.shape(x), stddev=sigma)\n",
        "    x += noise\n",
        "    return x\n",
        "\n",
        "\n",
        "def SoftMax(x):\n",
        "    x = tf.nn.softmax(x)\n",
        "    return x\n",
        "\n",
        "\n",
        "\n",
        "'''\n",
        "Loss functions. Arg 1: Approximation, Arg 2: Labels\n",
        "'''\n",
        "def CrossEntropyWithLogits(logits, labels):\n",
        "    loss = tf.reduce_mean(tf.nn.softmax_cross_entropy_with_logits_v2(logits=logits, labels=labels))\n",
        "    return loss\n",
        "\n",
        "\n",
        "# Formula: sum(p_i * log(p_i) - p_i * log(q_i))\n",
        "def KLDivergenceWithLogits(q, p):\n",
        "    p_soft = SoftMax(p)\n",
        "    # plogp = tf.reduce_mean(tf.reduce_sum(p_soft * tf.nn.log_softmax(p), 1))\n",
        "    # plogq = tf.reduce_mean(tf.reduce_sum(p_soft * tf.nn.log_softmax(q), 1))\n",
        "    distance = tf.reduce_sum(p_soft * tf.nn.log_softmax(p) - p_soft * tf.nn.log_softmax(q))\n",
        "    # distance = plogp - plogq\n",
        "    return distance\n"
      ],
      "execution_count": 0,
      "outputs": []
    },
    {
      "metadata": {
        "id": "Jl1tdmmMIUlU",
        "colab_type": "code",
        "colab": {
          "autoexec": {
            "startup": false,
            "wait_interval": 0
          }
        },
        "cellView": "code"
      },
      "cell_type": "code",
      "source": [
        "\n",
        "'''\n",
        "The model before AdD is applied\n",
        "'''\n",
        "def upperBlock(x, conv_size=[128, 256, 512, 256,128]):\n",
        "    x =  GaussianNoise(x)\n",
        "    x =  Conv2D(x, filter_size=3, n_channels=1, n_filters=conv_size[0], padding='SAME', name='1a')\n",
        "    x =  LeakyReLU(x)\n",
        "    x =  Conv2D(x, filter_size=3, n_channels=conv_size[0], n_filters=conv_size[0], name='1b')\n",
        "    x =  LeakyReLU(x)\n",
        "    x =  Conv2D(x, filter_size=3, n_channels=conv_size[0], n_filters=conv_size[0], name='1c')\n",
        "    x =  MaxPooling(x, ksize=2, stride_length=2)\n",
        "    x =  Dropout(x, probability=0.5)\n",
        "    \n",
        "    x =  Conv2D(x, filter_size=3, n_channels=conv_size[0], n_filters=conv_size[1], name='2a')\n",
        "    x =  LeakyReLU(x)\n",
        "    x =  Conv2D(x, filter_size=3, n_channels=conv_size[1], n_filters=conv_size[1], name='2b')\n",
        "    x =  LeakyReLU(x)\n",
        "    x =  Conv2D(x, filter_size=3, n_channels=conv_size[1], n_filters=conv_size[1], name='2c')\n",
        "    x =  LeakyReLU(x)\n",
        "    x =  MaxPooling(x, ksize=2, stride_length=2)\n",
        "\n",
        "    x =  Conv2D(x, filter_size=3, n_channels=conv_size[1], n_filters=conv_size[2], padding='VALID', name='3a')\n",
        "    x =  LeakyReLU(x)\n",
        "    x =  Conv2D(x, filter_size=1, n_channels=conv_size[2], n_filters=conv_size[3], name='3b')\n",
        "    x =  LeakyReLU(x)\n",
        "    x =  Conv2D(x, filter_size=1, n_channels=conv_size[3], n_filters=conv_size[4], name='3c')\n",
        "    x =  LeakyReLU(x)\n",
        "    x =  GlobalAveragePooling(x) \n",
        "    \n",
        "    # x =  Dropout(x, probability=0.5)\n",
        "    # x =  Dense(x, conv_size[4], 10)\n",
        "    # x =  SoftMax(x)\n",
        "\n",
        "    return x\n",
        "  \n",
        "def upperBlock_std(x, conv_size=[128, 256, 512, 256,128]):\n",
        "    x =  GaussianNoise(x)\n",
        "    x =  Conv2D(x, filter_size=3, n_channels=1, n_filters=conv_size[0], padding='SAME', name='1a_std')\n",
        "    x =  LeakyReLU(x)\n",
        "    x =  Conv2D(x, filter_size=3, n_channels=conv_size[0], n_filters=conv_size[0], name='1b_std')\n",
        "    x =  LeakyReLU(x)\n",
        "    x =  Conv2D(x, filter_size=3, n_channels=conv_size[0], n_filters=conv_size[0], name='1c_std')\n",
        "    x =  MaxPooling(x, ksize=2, stride_length=2)\n",
        "    x =  Dropout(x, probability=0.5)\n",
        "    \n",
        "    x =  Conv2D(x, filter_size=3, n_channels=conv_size[0], n_filters=conv_size[1], name='2a_std')\n",
        "    x =  LeakyReLU(x)\n",
        "    x =  Conv2D(x, filter_size=3, n_channels=conv_size[1], n_filters=conv_size[1], name='2b_std')\n",
        "    x =  LeakyReLU(x)\n",
        "    x =  Conv2D(x, filter_size=3, n_channels=conv_size[1], n_filters=conv_size[1], name='2c_std')\n",
        "    x =  LeakyReLU(x)\n",
        "    x =  MaxPooling(x, ksize=2, stride_length=2)\n",
        "\n",
        "    x =  Conv2D(x, filter_size=3, n_channels=conv_size[1], n_filters=conv_size[2], padding='VALID', name='3a_std')\n",
        "    x =  LeakyReLU(x)\n",
        "    x =  Conv2D(x, filter_size=1, n_channels=conv_size[2], n_filters=conv_size[3], name='3b_std')\n",
        "    x =  LeakyReLU(x)\n",
        "    x =  Conv2D(x, filter_size=1, n_channels=conv_size[3], n_filters=conv_size[4], name='3c_std')\n",
        "    x =  LeakyReLU(x)\n",
        "    x =  GlobalAveragePooling(x) \n",
        "    \n",
        "    # x =  Dropout(x, probability=0.5)\n",
        "    # x =  Dense(x, conv_size[4], 10)\n",
        "    # x =  SoftMax(x)\n",
        "\n",
        "    return x\n",
        "\n",
        "\n",
        "'''\n",
        "The model after AdD is applied\n",
        "'''\n",
        "def lowerBlock(x, n_in=128, n_out=10, name='fc'):\n",
        "    x =  Dense(x, n_in, n_out, name=name)\n",
        "    return x;\n",
        "\n",
        "def lowerBlock_std(x, n_in=128, n_out=10, name='fc_std'):\n",
        "    x =  Dense(x, n_in, n_out, name=name)\n",
        "    return x;\n",
        "\n",
        "\n",
        "'''\n",
        "Apply adv dropout\n",
        "'''\n",
        "def advDropout(x, mask, Jacobian, sigma=0.05, dim=128):\n",
        "    # y: output \n",
        "    # mask: current sampled dropout mask \n",
        "    # sigma: hyper-parameter for boundary \n",
        "    # Jabocian: Jacobian vector (gradient of divergence (or loss function))\n",
        "    # dim: layer dimension \n",
        "\n",
        "    Jacobian = tf.reshape(Jacobian, [-1, dim])\n",
        "\n",
        "    # mask = 0 --> -1 \n",
        "    mask = 2 * mask - tf.ones_like(mask)\n",
        "\n",
        "    adv_mask = mask \n",
        "\n",
        "    # extract the voxels for which the update conditions hold \n",
        "    # mask = 0 and J > 0 \n",
        "    # or\n",
        "    # mask = 1 and J < 1 \n",
        "    abs_jac = tf.abs(Jacobian)\n",
        "    temp = tf.cast(tf.greater(abs_jac, 0), tf.float32)\n",
        "    temp = 2 * temp - 1 \n",
        "    # interested in the cases when temp * mask = -1\n",
        "    ext = tf.cast(tf.less(mask, temp), tf.float32)\n",
        "\n",
        "    # keep the voxels that you want to update \n",
        "    candidates = abs_jac * ext \n",
        "    thres = tf.nn.top_k(candidates, int(dim * sigma * sigma)  + 1)[0][:,-1]\n",
        "\n",
        "    targets = tf.cast(tf.greater(candidates, tf.expand_dims(thres, -1)), tf.float32)\n",
        "\n",
        "    # get new mask \n",
        "    adv_mask = (mask - targets * 2 * mask + tf.ones_like(mask)) / 2.0\n",
        "\n",
        "    output = adv_mask * x\n",
        "\n",
        "    return output, adv_mask"
      ],
      "execution_count": 0,
      "outputs": []
    },
    {
      "metadata": {
        "id": "DjPBhjapIYFE",
        "colab_type": "code",
        "colab": {
          "autoexec": {
            "startup": false,
            "wait_interval": 0
          }
        },
        "cellView": "code"
      },
      "cell_type": "code",
      "source": [
        "#@title Default title text\n",
        "'''\n",
        "Returns a model without adversarial dropout\n",
        "'''\n",
        "def modelWithRandD_std(x):\n",
        "    x = upperBlock_std(x)\n",
        "    x = lowerBlock_std(x)\n",
        "    return x\n",
        "\n",
        "  \n",
        "def modelWithRandD(x):\n",
        "    x = upperBlock(x)\n",
        "    x = lowerBlock(x)\n",
        "    return x\n",
        "\n",
        "\n",
        "'''\n",
        "Returns a model with adversarial dropout\n",
        "'''\n",
        "def modelWithAdD(x, y, fn_loss=KLDivergenceWithLogits):\n",
        "    x = upperBlock(x)\n",
        "    y_no_adD = lowerBlock(x)\n",
        "    loss_no_adD = fn_loss(y_no_adD, y)\n",
        "\n",
        "    # Derivative of loss fn wrt x\n",
        "    DLoss = tf.gradients(loss_no_adD, [x])\n",
        "    DLoss = tf.squeeze(tf.stop_gradient(DLoss)) # Stops backpropagation\n",
        "\n",
        "    Jacobian_approx = DLoss * x\n",
        "    mask = tf.ones_like(x)\n",
        "\n",
        "    x, _ = advDropout(x, mask, Jacobian_approx)\n",
        "    x = lowerBlock(x)\n",
        "\n",
        "    return x\n",
        "\n",
        "\n",
        "\n",
        "def CreateBaseModel(x, y, learning_rate=0.001, optimizer=tf.train.AdamOptimizer, momentum=0.999):\n",
        "    logit_rand = modelWithRandD_std(x)\n",
        "    loss = CrossEntropyWithLogits(logit_rand, y)\n",
        "\n",
        "    opt = optimizer(learning_rate=learning_rate, beta1=momentum)\n",
        "    gradients = opt.compute_gradients(loss, tf.trainable_variables())\n",
        "    train_op = opt.apply_gradients(gradients)\n",
        "\n",
        "    return train_op, loss, logit_rand\n",
        "\n",
        "\n",
        "'''\n",
        "Create the AdD model for training\n",
        "'''\n",
        "def CreateAdDModel(x, y, learning_rate=0.001, optimizer=tf.train.AdamOptimizer, momentum=0.999, lmb=0.01):\n",
        "    logit_rand = modelWithRandD(x)\n",
        "    logit_rand_loss = CrossEntropyWithLogits(logit_rand, y)\n",
        "\n",
        "    with tf.variable_scope(tf.get_variable_scope(), reuse=True) as scope:\n",
        "        # With adversarial dropout\n",
        "        logit_adD = modelWithAdD(x, y)\n",
        "        logit_adD_loss = CrossEntropyWithLogits(logit_adD, y)\n",
        "\n",
        "        # Total loss\n",
        "        loss = logit_rand_loss + lmb * logit_adD_loss\n",
        "\n",
        "\n",
        "    opt = optimizer(learning_rate=learning_rate, beta1=momentum)\n",
        "    gradients = opt.compute_gradients(loss, tf.trainable_variables())\n",
        "    train_op = opt.apply_gradients(gradients)        \n",
        "\n",
        "    return train_op, loss, logit_rand\n",
        "\n",
        "\n",
        "def createTestModel(x, y):\n",
        "    with tf.variable_scope(tf.get_variable_scope(), reuse=True) as scope:\n",
        "        logit_rand = modelWithRandD(x)\n",
        "        logit_rand_loss = CrossEntropyWithLogits(logit_rand, y)\n",
        "\n",
        "        return logit_rand, logit_rand_loss\n",
        "\n",
        "\n",
        "def Accuracy(logits, labels):\n",
        "    y_pred = tf.argmax(logits, 1)\n",
        "    y_true = tf.argmax(labels, 1)\n",
        "    equality = tf.equal(y_pred, y_true)\n",
        "    accuracy = tf.reduce_mean(tf.cast(equality, tf.float32))\n",
        "    return accuracy\n",
        "\n",
        "\n",
        "def visualize(acc, loss, param):\n",
        "    x = np.arange(0, len(acc))\n",
        "    name = \"Baseline\" if param['BASELINE'] else \"Adversarial\"\n",
        "    plt.title(\"Acc trend: \" + name)\n",
        "    plt.plot(x, acc)\n",
        "    filename = str(\"Accuracy_\" + re.sub(\"{|}|:|'|,| \", \"\", str(param)) + \".png\")\n",
        "    print(filename)\n",
        "    plt.savefig(filename)\n",
        "#     files.download(filename)\n",
        "    \n",
        "    plt.close()\n",
        "\n",
        "    plt.title(\"Loss trend: \" + name)\n",
        "    plt.plot(x, loss)\n",
        "    filename = str(\"Loss_\" + re.sub(\"{|}|:|'|,| \", \"\", str(param)) + \".png\")\n",
        "    print(filename)\n",
        "    plt.savefig(filename)\n",
        "#     files.download(filename)\n",
        "    \n",
        "    plt.close()\n",
        "    \n",
        "def visualize_both(acc, loss, acc_base, loss_base, param):\n",
        "    x = np.arange(0, len(acc))\n",
        "    name = param['TYPE']\n",
        "    plt.title(\"Acc trend: \" + name)\n",
        "    plt.plot(x, acc, 'r')\n",
        "    plt.plot(x, acc_base, 'b')\n",
        "    filename = str(\"Accuracy_\" + re.sub(\"{|}|:|'|,| \", \"\", str(param)) + \".png\")\n",
        "    print(filename)\n",
        "    plt.savefig(filename)\n",
        "#     files.download(filename)\n",
        "    \n",
        "    plt.close()\n",
        "\n",
        "    plt.title(\"Loss trend: \" + name)\n",
        "    plt.plot(x, loss, 'r')\n",
        "    plt.plot(x, loss_base, 'b')\n",
        "    filename = str(\"Loss_\" + re.sub(\"{|}|:|'|,| \", \"\", str(param)) + \".png\")\n",
        "    print(filename)\n",
        "    plt.savefig(filename)\n",
        "#     files.download(filename)\n",
        "    \n",
        "    plt.close()\n",
        "\n",
        "\n",
        "\n",
        "def doTraining(x_train, y_train, x_test, y_test, param):\n",
        "    # Training setup\n",
        "\n",
        "    batch_size = param['BATCH_SIZE']\n",
        "    epochs = param['EPOCHS']\n",
        "\n",
        "    STEPS = len(x_train) // batch_size if param['STEPS'] is None else param['STEPS']\n",
        "    TEST_STEPS = len(x_test) // batch_size if param['STEPS'] is None else param['STEPS']\n",
        "\n",
        "    # Graph\n",
        "    x_train_ph = tf.placeholder(tf.float32)\n",
        "    x_test_ph = tf.placeholder(tf.float32)\n",
        "    y_train_ph = tf.placeholder(tf.float32)\n",
        "    y_test_ph = tf.placeholder(tf.float32)\n",
        "\n",
        "    train_op, loss, logit_rand = CreateAdDModel(x_train_ph, y_train_ph)\n",
        "    train_op_base, loss_base, logit_rand_base = CreateBaseModel(x_train_ph, y_train_ph) \n",
        "    logit_test, test_loss = createTestModel(x_test_ph, y_test_ph)\n",
        "    logit_test_base, test_loss_base = createTestModel(x_test_ph, y_test_ph)\n",
        "\n",
        "\n",
        "    # Accuracy Train\n",
        "    accuracy_train = Accuracy(logit_rand, y_train_ph)\n",
        "    accuracy_train_base = Accuracy(logit_rand_base, y_train_ph)\n",
        "    \n",
        "\n",
        "    # Accuracy Test\n",
        "    accuracy_test = Accuracy(logit_test, y_test_ph)\n",
        "    accuracy_test_base = Accuracy(logit_test_base, y_test_ph)\n",
        "    \n",
        "\n",
        "    acc_train_trend = []\n",
        "    loss_train_trend = []\n",
        "    acc_test_trend = []\n",
        "    loss_test_trend = []\n",
        "\n",
        "    \n",
        "    acc_train_trend_base = []\n",
        "    loss_train_trend_base = []\n",
        "    acc_test_trend_base = []\n",
        "    loss_test_trend_base = []\n",
        "\n",
        "    \n",
        "    \n",
        "    # Training\n",
        "    with tf.Session() as sess:\n",
        "        sess.run(tf.global_variables_initializer())\n",
        "        \n",
        "        for epoch in range(epochs):\n",
        "            # Train model\n",
        "            acc_train, loss_train = 0, 0\n",
        "            for i in range(STEPS):\n",
        "                _, loss_, acc = sess.run([train_op, loss, accuracy_train],\n",
        "                                        feed_dict={x_train_ph: x_train[batch_size * i: batch_size * (i + 1)],\n",
        "                                                   y_train_ph: y_train[batch_size * i: batch_size * (i + 1)]})\n",
        "                acc_train += acc\n",
        "                loss_train += loss_\n",
        "                \n",
        "            acc_train_trend.append(acc_train)\n",
        "            loss_train_trend.append(loss_train)\n",
        "\n",
        "            # Test model\n",
        "            acc_test, loss_test = 0, 0\n",
        "            for i in range(TEST_STEPS):\n",
        "                acc_t, loss_t = sess.run([accuracy_test, test_loss],\n",
        "                                         feed_dict={x_test_ph: x_test[batch_size * i: batch_size * (i + 1)],\n",
        "                                                    y_test_ph: y_test[batch_size * i: batch_size * (i + 1)]})\n",
        "                \n",
        "                acc_test += acc_t\n",
        "                loss_test += loss_t\n",
        "\n",
        "            acc_test_trend.append(acc_test)\n",
        "            loss_test_trend.append(loss_test)\n",
        "            \n",
        "            print('ADV : Epoch: {} || Train Loss: {},\\t Train Acc: {} || Test Loss: {},\\t Test Accuracy: {}'.format(epoch,\n",
        "                                                                                                          round(loss_train, 10) / STEPS,\n",
        "                                                                                                          round(acc_train, 10) / STEPS,\n",
        "                                                                                                          round(loss_test, 10) / TEST_STEPS,\n",
        "                                                                                                          round(acc_test, 10) / TEST_STEPS))\n",
        "        for epoch in range(epochs):\n",
        "            # Train model\n",
        "            acc_train_base, loss_train_base = 0, 0\n",
        "            for i in range(STEPS):\n",
        "                \n",
        "                _, loss_b, acc_b = sess.run([train_op_base, loss_base, accuracy_train_base],\n",
        "                                        feed_dict={x_train_ph: x_train[batch_size * i: batch_size * (i + 1)],\n",
        "                                                   y_train_ph: y_train[batch_size * i: batch_size * (i + 1)]})\n",
        "                \n",
        "                acc_train_base += acc_b\n",
        "                loss_train_base += loss_b\n",
        "\n",
        "            acc_train_trend_base.append(acc_train_base)\n",
        "            loss_train_trend_base.append(loss_train_base)\n",
        "\n",
        "            # Test model\n",
        "            acc_test_base, loss_test_base = 0, 0\n",
        "            for i in range(TEST_STEPS):\n",
        "                \n",
        "                acc_t_b, loss_t_b = sess.run([accuracy_test_base, test_loss_base], \n",
        "                                             feed_dict={x_test_ph: x_test[batch_size * i: batch_size * (i + 1)],\n",
        "                                                    y_test_ph: y_test[batch_size * i: batch_size * (i + 1)]})\n",
        "                \n",
        "                acc_test_base += acc_t_b\n",
        "                loss_test_base += loss_t_b\n",
        "\n",
        "            acc_test_trend_base.append(acc_test_base)\n",
        "            loss_test_trend_base.append(loss_test_base)\n",
        "      \n",
        "      \n",
        "      \n",
        "            print('BASELINE: Epoch: {} || Train Loss: {},\\t Train Acc: {} || Test Loss: {},\\t Test Accuracy: {}'.format(epoch,\n",
        "                                                                                                          round(loss_train_base, 10) / STEPS,\n",
        "                                                                                                          round(acc_train_base, 10) / STEPS,\n",
        "                                                                                                          round(loss_test_base, 10) / TEST_STEPS,\n",
        "                                                                                                          round(acc_test_base, 10) / TEST_STEPS))\n",
        "      \n",
        "    acc_train_trend = np.asarray(acc_train_trend) / STEPS\n",
        "    loss_train_trend = np.asarray(loss_train_trend) / STEPS\n",
        "    acc_test_trend = np.asarray(acc_test_trend) / TEST_STEPS\n",
        "    loss_test_trend = np.asarray(loss_test_trend) / TEST_STEPS\n",
        "    \n",
        "    acc_train_trend_base = np.asarray(acc_train_trend_base) / STEPS\n",
        "    loss_train_trend_base = np.asarray(loss_train_trend_base) / STEPS\n",
        "    acc_test_trend_base = np.asarray(acc_test_trend_base) / TEST_STEPS\n",
        "    loss_test_trend_base = np.asarray(loss_test_trend_base) / TEST_STEPS\n",
        "    \n",
        "    \n",
        "    # Train\n",
        "    param['TYPE'] = 'train'\n",
        "    param['STEPS'] = STEPS\n",
        "    visualize_both(acc_train_trend, loss_train_trend, acc_train_trend_base, loss_train_trend_base, param)\n",
        "\n",
        "    # Test\n",
        "    param['TYPE'] = 'test'\n",
        "    param['STEPS'] = TEST_STEPS\n",
        "    visualize_both(acc_test_trend, loss_test_trend, acc_test_trend_base, loss_test_trend_base, param)\n",
        "\n",
        "    return acc_train_trend, loss_train_trend, acc_test_trend, loss_test_trend, acc_train_trend_base, loss_train_trend_base, acc_test_trend_base, loss_test_trend_base\n"
      ],
      "execution_count": 0,
      "outputs": []
    },
    {
      "metadata": {
        "id": "xfN63Y6HIftx",
        "colab_type": "code",
        "colab": {
          "autoexec": {
            "startup": false,
            "wait_interval": 0
          },
          "base_uri": "https://localhost:8080/",
          "height": 1285
        },
        "outputId": "04e9480e-eea0-4c8d-d25c-c14e0192bb8e",
        "executionInfo": {
          "status": "ok",
          "timestamp": 1523818242132,
          "user_tz": 240,
          "elapsed": 5087200,
          "user": {
            "displayName": "Tiffany Wang",
            "photoUrl": "//lh3.googleusercontent.com/-DxivnaZLcsI/AAAAAAAAAAI/AAAAAAAAH_I/QDov37LUsKk/s50-c-k-no/photo.jpg",
            "userId": "108532619344838745606"
          }
        }
      },
      "cell_type": "code",
      "source": [
        "  (x_train, y_train), (x_test, y_test) = cifar10.load_data()\n",
        "  with tf.Session() as sess:\n",
        "      x_train = sess.run(tf.image.rgb_to_grayscale(x_train))\n",
        "      x_test = sess.run(tf.image.rgb_to_grayscale(x_test))\n",
        "\n",
        "  y_train = to_categorical(y_train)\n",
        "  y_test = to_categorical(y_test)\n",
        "\n",
        "  param = {\n",
        "      'BATCH_SIZE': 128,\n",
        "      'EPOCHS': 20,\n",
        "      'STEPS': None\n",
        "  }\n",
        "  doTraining(x_train, y_train, x_test, y_test, param)\n"
      ],
      "execution_count": 5,
      "outputs": [
        {
          "output_type": "stream",
          "text": [
            "ADV : Epoch: 0 || Train Loss: 113.71768614451078,\t Train Acc: 0.11143830128205129 || Test Loss: 16.514662498083332,\t Test Accuracy: 0.1084735576923077\n",
            "ADV : Epoch: 1 || Train Loss: 11.538705243819743,\t Train Acc: 0.12061298076923077 || Test Loss: 9.355403117644872,\t Test Accuracy: 0.15354567307692307\n",
            "ADV : Epoch: 2 || Train Loss: 9.07605478335641,\t Train Acc: 0.13565705128205127 || Test Loss: 5.300556892003846,\t Test Accuracy: 0.15324519230769232\n",
            "ADV : Epoch: 3 || Train Loss: 6.550384693879231,\t Train Acc: 0.15494791666666666 || Test Loss: 6.4412874075076925,\t Test Accuracy: 0.14973958333333334\n",
            "ADV : Epoch: 4 || Train Loss: 6.501123268787692,\t Train Acc: 0.15392628205128206 || Test Loss: 5.455359098238461,\t Test Accuracy: 0.14943910256410256\n",
            "ADV : Epoch: 5 || Train Loss: 4.738488745077949,\t Train Acc: 0.15891426282051282 || Test Loss: 3.0965797014730767,\t Test Accuracy: 0.16836939102564102\n",
            "ADV : Epoch: 6 || Train Loss: 3.5721076983671796,\t Train Acc: 0.17866586538461537 || Test Loss: 3.4915011234769233,\t Test Accuracy: 0.17958733974358973\n",
            "ADV : Epoch: 7 || Train Loss: 2.9253202120464104,\t Train Acc: 0.19022435897435896 || Test Loss: 2.7128132337179487,\t Test Accuracy: 0.18689903846153846\n",
            "ADV : Epoch: 8 || Train Loss: 2.7679979550533336,\t Train Acc: 0.2048477564102564 || Test Loss: 2.6562166183423077,\t Test Accuracy: 0.19310897435897437\n",
            "ADV : Epoch: 9 || Train Loss: 2.522805801110513,\t Train Acc: 0.21784855769230768 || Test Loss: 2.371487975120513,\t Test Accuracy: 0.2146434294871795\n",
            "ADV : Epoch: 10 || Train Loss: 2.388651926089487,\t Train Acc: 0.23317307692307693 || Test Loss: 2.106971234847436,\t Test Accuracy: 0.2783453525641026\n",
            "ADV : Epoch: 11 || Train Loss: 2.388331617453077,\t Train Acc: 0.2416065705128205 || Test Loss: 2.0720320298115387,\t Test Accuracy: 0.26943108974358976\n",
            "ADV : Epoch: 12 || Train Loss: 2.3257096495384615,\t Train Acc: 0.25340544871794873 || Test Loss: 2.050083675446154,\t Test Accuracy: 0.2913661858974359\n",
            "ADV : Epoch: 13 || Train Loss: 2.2572905983679488,\t Train Acc: 0.2635616987179487 || Test Loss: 2.296609707367949,\t Test Accuracy: 0.23347355769230768\n",
            "ADV : Epoch: 14 || Train Loss: 2.476794439095641,\t Train Acc: 0.2440705128205128 || Test Loss: 2.3835518910333335,\t Test Accuracy: 0.27013221153846156\n",
            "ADV : Epoch: 15 || Train Loss: 2.291272265788718,\t Train Acc: 0.26137820512820514 || Test Loss: 2.192533384530769,\t Test Accuracy: 0.2428886217948718\n",
            "ADV : Epoch: 16 || Train Loss: 2.177425660536923,\t Train Acc: 0.2744190705128205 || Test Loss: 2.1848426262538463,\t Test Accuracy: 0.30859375\n",
            "ADV : Epoch: 17 || Train Loss: 2.1495441852471795,\t Train Acc: 0.26981169871794874 || Test Loss: 2.11202041919359,\t Test Accuracy: 0.2761418269230769\n",
            "ADV : Epoch: 18 || Train Loss: 2.103692066363846,\t Train Acc: 0.2900440705128205 || Test Loss: 2.0079018030410256,\t Test Accuracy: 0.3016826923076923\n",
            "ADV : Epoch: 19 || Train Loss: 2.045923769474103,\t Train Acc: 0.29517227564102566 || Test Loss: 1.911975336380769,\t Test Accuracy: 0.3249198717948718\n",
            "BASELINE: Epoch: 0 || Train Loss: 109.49849664737026,\t Train Acc: 0.10606971153846154 || Test Loss: 1.9147675511166666,\t Test Accuracy: 0.32642227564102566\n",
            "BASELINE: Epoch: 1 || Train Loss: 22.783457088470517,\t Train Acc: 0.12471955128205128 || Test Loss: 1.9118475058141025,\t Test Accuracy: 0.3310296474358974\n",
            "BASELINE: Epoch: 2 || Train Loss: 11.988779169473846,\t Train Acc: 0.13892227564102563 || Test Loss: 1.9162066716410255,\t Test Accuracy: 0.3249198717948718\n",
            "BASELINE: Epoch: 3 || Train Loss: 7.135083608138205,\t Train Acc: 0.1681290064102564 || Test Loss: 1.9143487597128206,\t Test Accuracy: 0.32832532051282054\n",
            "BASELINE: Epoch: 4 || Train Loss: 5.23426986229718,\t Train Acc: 0.16177884615384616 || Test Loss: 1.9160184386448715,\t Test Accuracy: 0.3210136217948718\n",
            "BASELINE: Epoch: 5 || Train Loss: 4.01584436710077,\t Train Acc: 0.1625 || Test Loss: 1.9161776701615385,\t Test Accuracy: 0.32532051282051283\n",
            "BASELINE: Epoch: 6 || Train Loss: 3.3791579686679487,\t Train Acc: 0.17772435897435898 || Test Loss: 1.9161187746589745,\t Test Accuracy: 0.32411858974358976\n",
            "BASELINE: Epoch: 7 || Train Loss: 2.997112257052564,\t Train Acc: 0.18984375 || Test Loss: 1.9166488158397437,\t Test Accuracy: 0.3258213141025641\n",
            "BASELINE: Epoch: 8 || Train Loss: 2.82856313754359,\t Train Acc: 0.20032051282051283 || Test Loss: 1.91561072300641,\t Test Accuracy: 0.3267227564102564\n",
            "BASELINE: Epoch: 9 || Train Loss: 2.6838238098682052,\t Train Acc: 0.21985176282051283 || Test Loss: 1.9113205839423075,\t Test Accuracy: 0.32471955128205127\n",
            "BASELINE: Epoch: 10 || Train Loss: 2.499863205811795,\t Train Acc: 0.23147035256410256 || Test Loss: 1.9225180989653847,\t Test Accuracy: 0.32892628205128205\n",
            "BASELINE: Epoch: 11 || Train Loss: 2.3919984456820513,\t Train Acc: 0.2365584935897436 || Test Loss: 1.9124804139141025,\t Test Accuracy: 0.32592147435897434\n",
            "BASELINE: Epoch: 12 || Train Loss: 2.31532515104,\t Train Acc: 0.24491185897435896 || Test Loss: 1.9154341343115384,\t Test Accuracy: 0.3256209935897436\n",
            "BASELINE: Epoch: 13 || Train Loss: 2.4181674972558973,\t Train Acc: 0.24755608974358975 || Test Loss: 1.9125059048333333,\t Test Accuracy: 0.32982772435897434\n",
            "BASELINE: Epoch: 14 || Train Loss: 2.8312758962312823,\t Train Acc: 0.22922676282051282 || Test Loss: 1.9170017899615386,\t Test Accuracy: 0.32592147435897434\n"
          ],
          "name": "stdout"
        },
        {
          "output_type": "stream",
          "text": [
            "BASELINE: Epoch: 15 || Train Loss: 3.271272500356154,\t Train Acc: 0.21776842948717948 || Test Loss: 1.9079690881269231,\t Test Accuracy: 0.3332331730769231\n",
            "BASELINE: Epoch: 16 || Train Loss: 2.8638394239620517,\t Train Acc: 0.22884615384615384 || Test Loss: 1.9226119197333333,\t Test Accuracy: 0.3271233974358974\n",
            "BASELINE: Epoch: 17 || Train Loss: 2.4004999240238463,\t Train Acc: 0.2481971153846154 || Test Loss: 1.9106852977705127,\t Test Accuracy: 0.32962740384615385\n",
            "BASELINE: Epoch: 18 || Train Loss: 2.2587730325184614,\t Train Acc: 0.26213942307692306 || Test Loss: 1.9173699632666665,\t Test Accuracy: 0.32502003205128205\n",
            "BASELINE: Epoch: 19 || Train Loss: 2.241268974389744,\t Train Acc: 0.2563301282051282 || Test Loss: 1.9153738251102566,\t Test Accuracy: 0.32862580128205127\n",
            "Accuracy_BATCH_SIZE128EPOCHS20STEPS390TYPEtrain.png\n",
            "Loss_BATCH_SIZE128EPOCHS20STEPS390TYPEtrain.png\n",
            "Accuracy_BATCH_SIZE128EPOCHS20STEPS78TYPEtest.png\n",
            "Loss_BATCH_SIZE128EPOCHS20STEPS78TYPEtest.png\n"
          ],
          "name": "stdout"
        },
        {
          "output_type": "execute_result",
          "data": {
            "text/plain": [
              "(array([0.1114383 , 0.12061298, 0.13565705, 0.15494792, 0.15392628,\n",
              "        0.15891426, 0.17866587, 0.19022436, 0.20484776, 0.21784856,\n",
              "        0.23317308, 0.24160657, 0.25340545, 0.2635617 , 0.24407051,\n",
              "        0.26137821, 0.27441907, 0.2698117 , 0.29004407, 0.29517228]),\n",
              " array([113.71768614,  11.53870524,   9.07605478,   6.55038469,\n",
              "          6.50112327,   4.73848875,   3.5721077 ,   2.92532021,\n",
              "          2.76799796,   2.5228058 ,   2.38865193,   2.38833162,\n",
              "          2.32570965,   2.2572906 ,   2.47679444,   2.29127227,\n",
              "          2.17742566,   2.14954419,   2.10369207,   2.04592377]),\n",
              " array([0.10847356, 0.15354567, 0.15324519, 0.14973958, 0.1494391 ,\n",
              "        0.16836939, 0.17958734, 0.18689904, 0.19310897, 0.21464343,\n",
              "        0.27834535, 0.26943109, 0.29136619, 0.23347356, 0.27013221,\n",
              "        0.24288862, 0.30859375, 0.27614183, 0.30168269, 0.32491987]),\n",
              " array([16.5146625 ,  9.35540312,  5.30055689,  6.44128741,  5.4553591 ,\n",
              "         3.0965797 ,  3.49150112,  2.71281323,  2.65621662,  2.37148798,\n",
              "         2.10697123,  2.07203203,  2.05008368,  2.29660971,  2.38355189,\n",
              "         2.19253338,  2.18484263,  2.11202042,  2.0079018 ,  1.91197534]),\n",
              " array([0.10606971, 0.12471955, 0.13892228, 0.16812901, 0.16177885,\n",
              "        0.1625    , 0.17772436, 0.18984375, 0.20032051, 0.21985176,\n",
              "        0.23147035, 0.23655849, 0.24491186, 0.24755609, 0.22922676,\n",
              "        0.21776843, 0.22884615, 0.24819712, 0.26213942, 0.25633013]),\n",
              " array([109.49849665,  22.78345709,  11.98877917,   7.13508361,\n",
              "          5.23426986,   4.01584437,   3.37915797,   2.99711226,\n",
              "          2.82856314,   2.68382381,   2.49986321,   2.39199845,\n",
              "          2.31532515,   2.4181675 ,   2.8312759 ,   3.2712725 ,\n",
              "          2.86383942,   2.40049992,   2.25877303,   2.24126897]),\n",
              " array([0.32642228, 0.33102965, 0.32491987, 0.32832532, 0.32101362,\n",
              "        0.32532051, 0.32411859, 0.32582131, 0.32672276, 0.32471955,\n",
              "        0.32892628, 0.32592147, 0.32562099, 0.32982772, 0.32592147,\n",
              "        0.33323317, 0.3271234 , 0.3296274 , 0.32502003, 0.3286258 ]),\n",
              " array([1.91476755, 1.91184751, 1.91620667, 1.91434876, 1.91601844,\n",
              "        1.91617767, 1.91611877, 1.91664882, 1.91561072, 1.91132058,\n",
              "        1.9225181 , 1.91248041, 1.91543413, 1.9125059 , 1.91700179,\n",
              "        1.90796909, 1.92261192, 1.9106853 , 1.91736996, 1.91537383]))"
            ]
          },
          "metadata": {
            "tags": []
          },
          "execution_count": 5
        }
      ]
    },
    {
      "metadata": {
        "id": "9WaFKlEmKupB",
        "colab_type": "code",
        "colab": {
          "autoexec": {
            "startup": false,
            "wait_interval": 0
          },
          "base_uri": "https://localhost:8080/",
          "height": 294
        },
        "outputId": "733f18e7-04ee-4641-d025-3483293d02dc",
        "executionInfo": {
          "status": "ok",
          "timestamp": 1523818763312,
          "user_tz": 240,
          "elapsed": 224,
          "user": {
            "displayName": "Tiffany Wang",
            "photoUrl": "//lh3.googleusercontent.com/-DxivnaZLcsI/AAAAAAAAAAI/AAAAAAAAH_I/QDov37LUsKk/s50-c-k-no/photo.jpg",
            "userId": "108532619344838745606"
          }
        }
      },
      "cell_type": "code",
      "source": [
        "os.listdir('.')"
      ],
      "execution_count": 17,
      "outputs": [
        {
          "output_type": "execute_result",
          "data": {
            "text/plain": [
              "['datalab',\n",
              " 'Accuracy_BATCH_SIZE28EPOCHS20STEPS3TYPEtrain.png',\n",
              " '.cache',\n",
              " '.forever',\n",
              " 'Loss_BATCH_SIZE128EPOCHS20STEPS390TYPEtrain.png',\n",
              " '.nv',\n",
              " 'Loss_BATCH_SIZE28EPOCHS20STEPS3TYPEtrain.png',\n",
              " 'Loss_BATCH_SIZE28EPOCHS20STEPS3TYPEtest.png',\n",
              " '.local',\n",
              " '.keras',\n",
              " '.config',\n",
              " 'Accuracy_BATCH_SIZE128EPOCHS20STEPS390TYPEtrain.png',\n",
              " 'Accuracy_BATCH_SIZE28EPOCHS20STEPS3TYPEtest.png',\n",
              " '.ipython',\n",
              " 'Loss_BATCH_SIZE128EPOCHS20STEPS78TYPEtest.png',\n",
              " '.rnd',\n",
              " 'Accuracy_BATCH_SIZE128EPOCHS20STEPS78TYPEtest.png']"
            ]
          },
          "metadata": {
            "tags": []
          },
          "execution_count": 17
        }
      ]
    },
    {
      "metadata": {
        "id": "19EwxO-HI3Ax",
        "colab_type": "code",
        "colab": {
          "autoexec": {
            "startup": false,
            "wait_interval": 0
          }
        }
      },
      "cell_type": "code",
      "source": [
        "files.download('Loss_BATCH_SIZE28EPOCHS20STEPS3TYPEtrain.png')"
      ],
      "execution_count": 0,
      "outputs": []
    },
    {
      "metadata": {
        "id": "hZjIIPhEgsZH",
        "colab_type": "code",
        "colab": {
          "autoexec": {
            "startup": false,
            "wait_interval": 0
          }
        }
      },
      "cell_type": "code",
      "source": [
        "\n",
        "files.download('Accuracy_BATCH_SIZE128EPOCHS20STEPS78TYPEtest.png')"
      ],
      "execution_count": 0,
      "outputs": []
    },
    {
      "metadata": {
        "id": "r2oUo8gpxeR7",
        "colab_type": "code",
        "colab": {
          "autoexec": {
            "startup": false,
            "wait_interval": 0
          }
        }
      },
      "cell_type": "code",
      "source": [
        "\n",
        "files.download('Accuracy_BATCH_SIZE28EPOCHS20STEPS3TYPEtest.png')"
      ],
      "execution_count": 0,
      "outputs": []
    },
    {
      "metadata": {
        "id": "-HZtyDnfxkRq",
        "colab_type": "code",
        "colab": {
          "autoexec": {
            "startup": false,
            "wait_interval": 0
          }
        }
      },
      "cell_type": "code",
      "source": [
        "\n",
        "files.download('Loss_BATCH_SIZE256EPOCHS20STEPS39BASELINETrueTYPEtest.png')"
      ],
      "execution_count": 0,
      "outputs": []
    },
    {
      "metadata": {
        "id": "Cv9tZXB-ABH5",
        "colab_type": "code",
        "colab": {
          "autoexec": {
            "startup": false,
            "wait_interval": 0
          }
        }
      },
      "cell_type": "code",
      "source": [
        "files.download('lala.png')"
      ],
      "execution_count": 0,
      "outputs": []
    },
    {
      "metadata": {
        "id": "CiYggdPNAEC6",
        "colab_type": "code",
        "colab": {
          "autoexec": {
            "startup": false,
            "wait_interval": 0
          },
          "base_uri": "https://localhost:8080/",
          "height": 348
        },
        "outputId": "3a58f39c-3cc2-4b85-f738-4890a6aeb4b0",
        "executionInfo": {
          "status": "ok",
          "timestamp": 1523589381410,
          "user_tz": 240,
          "elapsed": 1165,
          "user": {
            "displayName": "Tiffany Wang",
            "photoUrl": "//lh3.googleusercontent.com/-DxivnaZLcsI/AAAAAAAAAAI/AAAAAAAAH_I/QDov37LUsKk/s50-c-k-no/photo.jpg",
            "userId": "108532619344838745606"
          }
        }
      },
      "cell_type": "code",
      "source": [
        "a = [1, 2, 3, 4, 5]\n",
        "b = [2, 3, 4, 5, 6]\n",
        "\n",
        "plt.plot(a, b)\n",
        "plt.savefig('okok.png')"
      ],
      "execution_count": 11,
      "outputs": [
        {
          "output_type": "display_data",
          "data": {
            "image/png": "[encoded data removed]",
            "text/plain": [
              "<matplotlib.figure.Figure at 0x7f70b697f0f0>"
            ]
          },
          "metadata": {
            "tags": []
          }
        }
      ]
    },
    {
      "metadata": {
        "id": "HcxJUr7VAPhM",
        "colab_type": "code",
        "colab": {
          "autoexec": {
            "startup": false,
            "wait_interval": 0
          },
          "base_uri": "https://localhost:8080/",
          "height": 148
        },
        "outputId": "24910b0a-8004-422f-8545-2b08999b1283",
        "executionInfo": {
          "status": "ok",
          "timestamp": 1523589386597,
          "user_tz": 240,
          "elapsed": 1763,
          "user": {
            "displayName": "Tiffany Wang",
            "photoUrl": "//lh3.googleusercontent.com/-DxivnaZLcsI/AAAAAAAAAAI/AAAAAAAAH_I/QDov37LUsKk/s50-c-k-no/photo.jpg",
            "userId": "108532619344838745606"
          }
        }
      },
      "cell_type": "code",
      "source": [
        "ls"
      ],
      "execution_count": 12,
      "outputs": [
        {
          "output_type": "stream",
          "text": [
            "Accuracy_BATCH_SIZE128EPOCHS10STEPS390BASELINEFalseTYPEtrain.png\r\n",
            "Accuracy_BATCH_SIZE128EPOCHS1STEPS4BASELINEFalseTYPEtest.png\r\n",
            "Accuracy_BATCH_SIZE128EPOCHS1STEPS4BASELINEFalseTYPEtrain.png\r\n",
            "\u001b[0m\u001b[01;34mdatalab\u001b[0m/\r\n",
            "lala.png\r\n",
            "Loss_BATCH_SIZE128EPOCHS1STEPS4BASELINEFalseTYPEtest.png\r\n",
            "Loss_BATCH_SIZE128EPOCHS1STEPS4BASELINEFalseTYPEtrain.png\r\n",
            "okok.png\r\n"
          ],
          "name": "stdout"
        }
      ]
    },
    {
      "metadata": {
        "id": "hs3X6Cr5AQo8",
        "colab_type": "code",
        "colab": {
          "autoexec": {
            "startup": false,
            "wait_interval": 0
          }
        }
      },
      "cell_type": "code",
      "source": [
        "files.download('okok.png')"
      ],
      "execution_count": 0,
      "outputs": []
    },
    {
      "metadata": {
        "id": "Y1ToKVfKASkq",
        "colab_type": "code",
        "colab": {
          "autoexec": {
            "startup": false,
            "wait_interval": 0
          }
        }
      },
      "cell_type": "code",
      "source": [
        ""
      ],
      "execution_count": 0,
      "outputs": []
    }
  ]
}