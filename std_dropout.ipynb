{
  "nbformat": 4,
  "nbformat_minor": 0,
  "metadata": {
    "colab": {
      "name": "adv_dropout.ipynb",
      "version": "0.3.2",
      "views": {},
      "default_view": {},
      "provenance": []
    },
    "kernelspec": {
      "name": "python3",
      "display_name": "Python 3"
    },
    "accelerator": "GPU"
  },
  "cells": [
    {
      "metadata": {
        "id": "OLpRkL0AGRtG",
        "colab_type": "code",
        "colab": {
          "autoexec": {
            "startup": false,
            "wait_interval": 0
          }
        }
      },
      "cell_type": "code",
      "source": [
        "from __future__ import print_function\n",
        "import numpy as np\n",
        "import matplotlib.pyplot as plt\n",
        "import keras\n",
        "import tensorflow as tf\n",
        "from keras import backend as K\n",
        "from keras.datasets import cifar10\n",
        "from keras.models import Sequential\n",
        "from keras.layers import Dense, Dropout, Activation, Flatten, GaussianNoise\n",
        "from keras.utils import to_categorical\n",
        "from keras.layers import Conv2D, MaxPooling2D, GlobalAveragePooling2D\n",
        "from keras.layers.advanced_activations import LeakyReLU "
      ],
      "execution_count": 0,
      "outputs": []
    },
    {
      "metadata": {
        "id": "nTVQ5_bVGqOG",
        "colab_type": "code",
        "colab": {
          "autoexec": {
            "startup": false,
            "wait_interval": 0
          }
        }
      },
      "cell_type": "code",
      "source": [
        "IMAGE_SIZE = 32\n",
        "NUM_CLASSES = 10\n",
        "NUM_EXAMPLES = 60000\n",
        "SPLIT = 0.10\n",
        "NUM_EXAMPLES_TRAIN = int(NUM_EXAMPLES * (1 - SPLIT))\n",
        "NUM_EXAMPLES_TEST = int(NUM_EXAMPLES * SPLIT)"
      ],
      "execution_count": 0,
      "outputs": []
    },
    {
      "metadata": {
        "id": "DiYaJZZ6GW4-",
        "colab_type": "code",
        "colab": {
          "autoexec": {
            "startup": false,
            "wait_interval": 0
          }
        }
      },
      "cell_type": "code",
      "source": [
        "def supervised_model(input_shape=(32, 32, 3), stddev=0.15, dropout=0.5, alpha=0.1, adversarial=False, NUM_CLASSES=10):\n",
        "\tmodel = Sequential()\n",
        "\tmodel.add(GaussianNoise(stddev=stddev, input_shape=input_shape))\n",
        "\n",
        "\tmodel.add(Conv2D(128, kernel_size=(3, 3), padding=\"same\"))\n",
        "\tmodel.add(LeakyReLU(alpha=alpha))\n",
        "\tmodel.add(Conv2D(128, kernel_size=(3, 3), padding=\"same\"))\n",
        "\tmodel.add(LeakyReLU(alpha=alpha))\n",
        "\tmodel.add(Conv2D(128, kernel_size=(3, 3), padding=\"same\"))\n",
        "\tmodel.add(LeakyReLU(alpha=alpha))\n",
        "\tmodel.add(MaxPooling2D(pool_size=(2, 2)))\n",
        "\tmodel.add(Dropout(dropout))\n",
        "\n",
        "\tmodel.add(Conv2D(256, kernel_size=(3, 3), padding=\"same\"))\n",
        "\tmodel.add(LeakyReLU(alpha=alpha))\n",
        "\tmodel.add(Conv2D(256, kernel_size=(3, 3), padding=\"same\"))\n",
        "\tmodel.add(LeakyReLU(alpha=alpha))\n",
        "\tmodel.add(Conv2D(256, kernel_size=(3, 3), padding=\"same\"))\n",
        "\tmodel.add(LeakyReLU(alpha=alpha))\n",
        "\tmodel.add(MaxPooling2D(pool_size=(2, 2)))\n",
        "\n",
        "\tmodel.add(Conv2D(512, kernel_size=(3, 3), padding=\"valid\"))\n",
        "\tmodel.add(LeakyReLU(alpha=alpha))\n",
        "\tmodel.add(Conv2D(256, kernel_size=(1, 1)))\n",
        "\tmodel.add(LeakyReLU(alpha=alpha))\n",
        "\tmodel.add(Conv2D(128, kernel_size=(1, 1)))\n",
        "\tmodel.add(LeakyReLU(alpha=alpha))\n",
        "\tmodel.add(GlobalAveragePooling2D())\n",
        "\n",
        "\tif adversarial:\n",
        "\t\t#TODO update adversarial droput layer \n",
        "\t\tpass\n",
        "\telse: \n",
        "\t\tmodel.add(Dropout(dropout))\n",
        "\n",
        "\tmodel.add(Dense(NUM_CLASSES, activation='softmax'))\n",
        "\n",
        "\tmodel.compile(loss=keras.losses.categorical_crossentropy,\n",
        "\t              optimizer=keras.optimizers.Adam(),\n",
        "\t              metrics=['accuracy'])\n",
        "\treturn model"
      ],
      "execution_count": 0,
      "outputs": []
    },
    {
      "metadata": {
        "id": "8rh6hZ2iGfhc",
        "colab_type": "code",
        "colab": {
          "autoexec": {
            "startup": false,
            "wait_interval": 0
          },
          "base_uri": "https://localhost:8080/",
          "height": 51
        },
        "cellView": "form",
        "outputId": "126016aa-157e-4d8b-e630-1731570e8591",
        "executionInfo": {
          "status": "ok",
          "timestamp": 1523406570060,
          "user_tz": 240,
          "elapsed": 41840,
          "user": {
            "displayName": "Tiffany Wang",
            "photoUrl": "//lh3.googleusercontent.com/-DxivnaZLcsI/AAAAAAAAAAI/AAAAAAAAH_I/QDov37LUsKk/s50-c-k-no/photo.jpg",
            "userId": "108532619344838745606"
          }
        }
      },
      "cell_type": "code",
      "source": [
        "#@title Dataset Shape\n",
        "(x_train, y_train), (x_test, y_test) = cifar10.load_data()\n",
        "y_train = to_categorical(y_train)\n",
        "y_test = to_categorical(y_test)"
      ],
      "execution_count": 8,
      "outputs": [
        {
          "output_type": "stream",
          "text": [
            "Downloading data from https://www.cs.toronto.edu/~kriz/cifar-10-python.tar.gz\n",
            "170500096/170498071 [==============================] - 39s 0us/step\n"
          ],
          "name": "stdout"
        }
      ]
    },
    {
      "metadata": {
        "id": "yjYtbpG4G3XB",
        "colab_type": "text"
      },
      "cell_type": "markdown",
      "source": [
        "\t# x_train.shape = (50000, 32, 32, 3)\n",
        "\t# y_train.shape = (50000, 1)\n",
        "\t# x_test.shape = (10000, 32, 32, 3)\n",
        "\t# y_test.shape = (10000, 1)\n",
        " "
      ]
    },
    {
      "metadata": {
        "id": "AgaKHYWLGt5r",
        "colab_type": "code",
        "colab": {
          "autoexec": {
            "startup": false,
            "wait_interval": 0
          },
          "base_uri": "https://localhost:8080/",
          "height": 173
        },
        "outputId": "8fda39f9-f90b-4b19-da20-4079c30ed83b",
        "executionInfo": {
          "status": "ok",
          "timestamp": 1523407618269,
          "user_tz": 240,
          "elapsed": 335701,
          "user": {
            "displayName": "Tiffany Wang",
            "photoUrl": "//lh3.googleusercontent.com/-DxivnaZLcsI/AAAAAAAAAAI/AAAAAAAAH_I/QDov37LUsKk/s50-c-k-no/photo.jpg",
            "userId": "108532619344838745606"
          }
        }
      },
      "cell_type": "code",
      "source": [
        "model = supervised_model()\n",
        "model.fit(x_train, y_train, batch_size=64, callbacks=None, epochs=3, verbose=1, validation_data=(x_test, y_test), shuffle=True)\n",
        " "
      ],
      "execution_count": 11,
      "outputs": [
        {
          "output_type": "stream",
          "text": [
            "Train on 50000 samples, validate on 10000 samples\n",
            "Epoch 1/3\n",
            "44224/50000 [=========================>....] - ETA: 12s - loss: 2.2739 - acc: 0.1826"
          ],
          "name": "stdout"
        },
        {
          "output_type": "stream",
          "text": [
            "50000/50000 [==============================] - 112s 2ms/step - loss: 2.2285 - acc: 0.1959 - val_loss: 1.8692 - val_acc: 0.2978\n",
            "Epoch 2/3\n",
            "26624/50000 [==============>...............] - ETA: 49s - loss: 1.7993 - acc: 0.3570"
          ],
          "name": "stdout"
        },
        {
          "output_type": "stream",
          "text": [
            "50000/50000 [==============================] - 111s 2ms/step - loss: 1.6804 - acc: 0.4007 - val_loss: 2.1603 - val_acc: 0.3536\n",
            "Epoch 3/3\n",
            "19904/50000 [==========>...................] - ETA: 1:03 - loss: 1.3943 - acc: 0.5077"
          ],
          "name": "stdout"
        },
        {
          "output_type": "stream",
          "text": [
            "50000/50000 [==============================] - 111s 2ms/step - loss: 1.2906 - acc: 0.5490 - val_loss: 1.2007 - val_acc: 0.5666\n"
          ],
          "name": "stdout"
        },
        {
          "output_type": "execute_result",
          "data": {
            "text/plain": [
              "<keras.callbacks.History at 0x7f1a7fd58898>"
            ]
          },
          "metadata": {
            "tags": []
          },
          "execution_count": 11
        }
      ]
    },
    {
      "metadata": {
        "id": "aWjkNApYG7y8",
        "colab_type": "code",
        "colab": {
          "autoexec": {
            "startup": false,
            "wait_interval": 0
          }
        }
      },
      "cell_type": "code",
      "source": [
        ""
      ],
      "execution_count": 0,
      "outputs": []
    }
  ]
}