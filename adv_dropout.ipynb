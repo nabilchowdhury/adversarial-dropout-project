{
  "nbformat": 4,
  "nbformat_minor": 0,
  "metadata": {
    "colab": {
      "name": "layer.ipynb",
      "version": "0.3.2",
      "views": {},
      "default_view": {},
      "provenance": [],
      "collapsed_sections": []
    }
  },
  "cells": [
    {
      "metadata": {
        "id": "zF7eB9_2Tw9S",
        "colab_type": "code",
        "colab": {
          "autoexec": {
            "startup": false,
            "wait_interval": 0
          }
        }
      },
      "cell_type": "code",
      "source": [
        "import tensorflow as tf"
      ],
      "execution_count": 0,
      "outputs": []
    },
    {
      "metadata": {
        "id": "ceQjQ_mfuVnq",
        "colab_type": "code",
        "colab": {
          "autoexec": {
            "startup": false,
            "wait_interval": 0
          }
        }
      },
      "cell_type": "code",
      "source": [
        "var = tf.Variable(tf.random_uniform([4, 4]), name=\"var\")\n",
        "mask = tf.round(var)\n",
        "input = tf.Variable(tf.random_uniform([4, 4]), name=\"input\") * 10 - 10 #range=(-5, 5)\n",
        "jac = tf.Variable(tf.random_uniform([16]))\n",
        "init = tf.global_variables_initializer()\n",
        "sess.run(init)"
      ],
      "execution_count": 0,
      "outputs": []
    },
    {
      "metadata": {
        "id": "ONyAzypST4Xr",
        "colab_type": "code",
        "colab": {
          "autoexec": {
            "startup": false,
            "wait_interval": 0
          }
        }
      },
      "cell_type": "code",
      "source": [
        "def adv_dropout(x, mask, Jacobian, sigma=0.05, dim=128):\n",
        "  # y: output \n",
        "  # mask: current sampled dropout mask \n",
        "  # sigma: hyper-parameter for boundary \n",
        "  # Jabocian: Jacobian vector (gradient of divergence (or loss function))\n",
        "  # dim: layer dimension \n",
        "  \n",
        "  Jacobian = tf.reshape(Jacobian, [-1, dim])\n",
        "  \n",
        "  # mask = 0 --> -1 \n",
        "  mask = 2 * mask - tf.ones_like(mask)\n",
        "  \n",
        "  adv_mask = mask \n",
        " \n",
        "  # extract the voxels for which the update conditions hold \n",
        "  # mask = 0 and J > 0 \n",
        "  # or\n",
        "  # mask = 1 and J < 1 \n",
        "  abs_jac = tf.abs(Jacobian)\n",
        "  temp = tf.cast(tf.greater(abs_jac, 0), tf.float32)\n",
        "  temp = 2 * temp - 1 \n",
        "  # interested in the cases when temp * mask = -1\n",
        "  ext = tf.cast(tf.less(mask, temp), tf.float32)\n",
        "  \n",
        "  # keep the voxels that you want to update \n",
        "  candidates = abs_jac * ext \n",
        "  thres = tf.nn.top_k(candidates, int(dim * sigma * sigma)  + 1)[0][:,-1]\n",
        "  \n",
        "  targets = tf.cast(tf.greater(candidates, tf.expand_dims(thres, -1)), tf.float32)\n",
        "  \n",
        "  # get new mask \n",
        "  adv_mask = (mask - targets * 2 * mask + tf.ones_like(mask)) / 2.0\n",
        "  \n",
        "  output = adv_mask * x\n",
        "  \n",
        "  return output, adv_mask\n",
        "  "
      ],
      "execution_count": 0,
      "outputs": []
    },
    {
      "metadata": {
        "id": "lW_3Un54Ib70",
        "colab_type": "code",
        "colab": {
          "autoexec": {
            "startup": false,
            "wait_interval": 0
          },
          "base_uri": "https://localhost:8080/",
          "height": 136
        },
        "outputId": "84ef8b1c-9723-43c6-de53-79ade47256b9",
        "executionInfo": {
          "status": "ok",
          "timestamp": 1523424000066,
          "user_tz": 240,
          "elapsed": 293,
          "user": {
            "displayName": "Tiffany Wang",
            "photoUrl": "//lh3.googleusercontent.com/-DxivnaZLcsI/AAAAAAAAAAI/AAAAAAAAH_I/QDov37LUsKk/s50-c-k-no/photo.jpg",
            "userId": "108532619344838745606"
          }
        }
      },
      "cell_type": "code",
      "source": [
        "print(sess.run(jac))\n",
        "Jacobian = tf.reshape(jac, [-1, 4])\n",
        "print(sess.run(Jacobian))"
      ],
      "execution_count": 90,
      "outputs": [
        {
          "output_type": "stream",
          "text": [
            "[0.04147339 0.21775913 0.2395171  0.09193206 0.1808505  0.41269767\n",
            " 0.5703013  0.32919097 0.92201424 0.04528844 0.93498576 0.4456147\n",
            " 0.6422385  0.8124876  0.49876463 0.17712533]\n",
            "[[0.04147339 0.21775913 0.2395171  0.09193206]\n",
            " [0.1808505  0.41269767 0.5703013  0.32919097]\n",
            " [0.92201424 0.04528844 0.93498576 0.4456147 ]\n",
            " [0.6422385  0.8124876  0.49876463 0.17712533]]\n"
          ],
          "name": "stdout"
        }
      ]
    },
    {
      "metadata": {
        "id": "wdrXFJ9liEbO",
        "colab_type": "code",
        "colab": {
          "autoexec": {
            "startup": false,
            "wait_interval": 0
          },
          "base_uri": "https://localhost:8080/",
          "height": 306
        },
        "outputId": "e6de52f7-4680-4cf7-9dd0-6e0d5194f4ea",
        "executionInfo": {
          "status": "ok",
          "timestamp": 1523424063694,
          "user_tz": 240,
          "elapsed": 285,
          "user": {
            "displayName": "Tiffany Wang",
            "photoUrl": "//lh3.googleusercontent.com/-DxivnaZLcsI/AAAAAAAAAAI/AAAAAAAAH_I/QDov37LUsKk/s50-c-k-no/photo.jpg",
            "userId": "108532619344838745606"
          }
        }
      },
      "cell_type": "code",
      "source": [
        "output, adv_mask = adv_dropout(input, mask, jac, 0.05, 4)\n",
        "print(\"input\")\n",
        "print(sess.run(input))\n",
        "\n",
        "print(\"\\noutput\")\n",
        "print(sess.run(output))\n",
        "\n",
        "print(\"\\nadv dropout mask\")\n",
        "print(sess.run(adv_mask))"
      ],
      "execution_count": 95,
      "outputs": [
        {
          "output_type": "stream",
          "text": [
            "input\n",
            "[[-4.6004224  -3.1865287  -2.9571557  -6.991234  ]\n",
            " [-7.4384356  -6.62169    -6.2971506  -7.403066  ]\n",
            " [-3.7820601  -1.183918   -0.72644615 -0.9559269 ]\n",
            " [-2.822791   -3.6794176  -9.163973   -9.512039  ]]\n",
            "\n",
            "output\n",
            "[[-4.6004224  -3.1865287  -2.9571557  -6.991234  ]\n",
            " [-0.         -6.62169    -0.         -7.403066  ]\n",
            " [-3.7820601  -1.183918   -0.72644615 -0.        ]\n",
            " [-2.822791   -0.         -9.163973   -0.        ]]\n",
            "\n",
            "adv dropout mask\n",
            "[[1. 1. 1. 1.]\n",
            " [0. 1. 0. 1.]\n",
            " [1. 1. 1. 0.]\n",
            " [1. 0. 1. 0.]]\n"
          ],
          "name": "stdout"
        }
      ]
    },
    {
      "metadata": {
        "id": "_Jv_brl6g_sn",
        "colab_type": "code",
        "colab": {
          "autoexec": {
            "startup": false,
            "wait_interval": 0
          }
        }
      },
      "cell_type": "code",
      "source": [
        "\n",
        "\n",
        "   "
      ],
      "execution_count": 0,
      "outputs": []
    },
    {
      "metadata": {
        "id": "ERB3FcZqhALM",
        "colab_type": "code",
        "colab": {
          "autoexec": {
            "startup": false,
            "wait_interval": 0
          }
        }
      },
      "cell_type": "code",
      "source": [
        ""
      ],
      "execution_count": 0,
      "outputs": []
    }
  ]
}